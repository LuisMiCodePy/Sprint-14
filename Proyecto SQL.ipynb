{
 "cells": [
  {
   "cell_type": "markdown",
   "metadata": {},
   "source": [
    "# Proyecto SQL: Análisis de datos de servicio de lectura"
   ]
  },
  {
   "cell_type": "markdown",
   "metadata": {
    "jp-MarkdownHeadingCollapsed": true
   },
   "source": [
    "## Objetivo del estudio"
   ]
  },
  {
   "cell_type": "markdown",
   "metadata": {},
   "source": [
    "El objetivo principal de este análisis es **comprender el comportamiento de los usuarios y las tendencias de publicación** dentro del mercado de los libros, aprovechando una base de datos de un servicio de lectura. Las ideas obtenidas de este estudio se utilizarán para generar una propuesta de valor convincente para un nuevo producto.\n",
    "\n",
    "Las preguntas clave que buscamos responder incluyen:\n",
    "\n",
    "* El crecimiento del catálogo de libros en el siglo XXI.\n",
    "\n",
    "* La popularidad y valoración de los libros por parte de la comunidad.\n",
    "\n",
    "* La productividad y especialización de las editoriales.\n",
    "\n",
    "* La reputación de los autores según la calificación de sus obras.\n",
    "\n",
    "* El nivel de interacción y el compromiso de los usuarios más activos.\n",
    "\n"
   ]
  },
  {
   "cell_type": "markdown",
   "metadata": {
    "jp-MarkdownHeadingCollapsed": true
   },
   "source": [
    "## Acceso a la base de datos"
   ]
  },
  {
   "cell_type": "code",
   "execution_count": 1,
   "metadata": {},
   "outputs": [],
   "source": [
    "import pandas as pd\n",
    "from sqlalchemy import create_engine\n",
    "\n",
    "# Configuración de la base de datos proporcionada\n",
    "db_config = {\n",
    "    'user': 'practicum_student',\n",
    "    'pwd': 'QnmDH8Sc2TQLvy2G3Vvh7',\n",
    "    'host': 'yp-trainers-practicum.cluster-czs0gxyx2d8w.us-east-1.rds.amazonaws.com',\n",
    "    'port': 5432,\n",
    "    'db': 'data-analyst-final-project-db'\n",
    "}\n",
    "\n",
    "# Creación de la cadena de conexión\n",
    "connection_string = 'postgresql://{}:{}@{}:{}/{}'.format(\n",
    "    db_config['user'],\n",
    "    db_config['pwd'],\n",
    "    db_config['host'],\n",
    "    db_config['port'],\n",
    "    db_config['db']\n",
    ")"
   ]
  },
  {
   "cell_type": "markdown",
   "metadata": {
    "jp-MarkdownHeadingCollapsed": true
   },
   "source": [
    "## Creación del motor de busqueda"
   ]
  },
  {
   "cell_type": "code",
   "execution_count": 2,
   "metadata": {},
   "outputs": [],
   "source": [
    "# Creación del motor de la base de datos\n",
    "engine = create_engine(connection_string)\n",
    "\n",
    "def run_query_and_print_results(query, title):\n",
    "    \"\"\"\n",
    "    Función auxiliar para ejecutar una consulta y mostrar los resultados en la consola.\n",
    "    \"\"\"\n",
    "    print(f\"\\n--- {title} ---\")\n",
    "    try:\n",
    "        df = pd.read_sql(query, engine)\n",
    "        print(df)\n",
    "    except Exception as e:\n",
    "        print(f\"Ocurrió un error al ejecutar la consulta: {e}\")"
   ]
  },
  {
   "cell_type": "markdown",
   "metadata": {
    "jp-MarkdownHeadingCollapsed": true
   },
   "source": [
    "## Estudio de las tablas"
   ]
  },
  {
   "cell_type": "markdown",
   "metadata": {
    "jp-MarkdownHeadingCollapsed": true
   },
   "source": [
    "Para comprender la estructura de la base de datos, es fundamental inspeccionar las primeras filas de cada tabla. Esto nos permite ver los tipos de datos, las relaciones entre las tablas y la información disponible.\n",
    "\n",
    "A continuación se presentan las consultas para explorar cada una de las tablas:"
   ]
  },
  {
   "cell_type": "code",
   "execution_count": 3,
   "metadata": {},
   "outputs": [
    {
     "name": "stdout",
     "output_type": "stream",
     "text": [
      "\n",
      "--- Vistazo a la tabla 'books' ---\n",
      "   book_id  author_id                                              title  \\\n",
      "0        1        546                                       'Salem's Lot   \n",
      "1        2        465                 1 000 Places to See Before You Die   \n",
      "2        3        407  13 Little Blue Envelopes (Little Blue Envelope...   \n",
      "3        4         82  1491: New Revelations of the Americas Before C...   \n",
      "4        5        125                                               1776   \n",
      "\n",
      "   num_pages publication_date  publisher_id  \n",
      "0        594       2005-11-01            93  \n",
      "1        992       2003-05-22           336  \n",
      "2        322       2010-12-21           135  \n",
      "3        541       2006-10-10           309  \n",
      "4        386       2006-07-04           268  \n"
     ]
    }
   ],
   "source": [
    "# Vistazo a la tabla 'books'\n",
    "run_query_and_print_results(\"SELECT * FROM books LIMIT 5;\", \"Vistazo a la tabla 'books'\")"
   ]
  },
  {
   "cell_type": "code",
   "execution_count": 4,
   "metadata": {},
   "outputs": [
    {
     "name": "stdout",
     "output_type": "stream",
     "text": [
      "\n",
      "--- Vistazo a la tabla 'authors' ---\n",
      "   author_id                          author\n",
      "0          1                      A.S. Byatt\n",
      "1          2  Aesop/Laura Harris/Laura Gibbs\n",
      "2          3                 Agatha Christie\n",
      "3          4                   Alan Brennert\n",
      "4          5        Alan Moore/David   Lloyd\n"
     ]
    }
   ],
   "source": [
    "# Vistazo a la tabla 'authors'\n",
    "run_query_and_print_results(\"SELECT * FROM authors LIMIT 5;\", \"Vistazo a la tabla 'authors'\")"
   ]
  },
  {
   "cell_type": "code",
   "execution_count": 5,
   "metadata": {},
   "outputs": [
    {
     "name": "stdout",
     "output_type": "stream",
     "text": [
      "\n",
      "--- Vistazo a la tabla 'publishers' ---\n",
      "   publisher_id                          publisher\n",
      "0             1                                Ace\n",
      "1             2                           Ace Book\n",
      "2             3                          Ace Books\n",
      "3             4                      Ace Hardcover\n",
      "4             5  Addison Wesley Publishing Company\n"
     ]
    }
   ],
   "source": [
    "# Vistazo a la tabla 'publishers'\n",
    "run_query_and_print_results(\"SELECT * FROM publishers LIMIT 5;\", \"Vistazo a la tabla 'publishers'\")"
   ]
  },
  {
   "cell_type": "code",
   "execution_count": 6,
   "metadata": {},
   "outputs": [
    {
     "name": "stdout",
     "output_type": "stream",
     "text": [
      "\n",
      "--- Vistazo a la tabla 'ratings' ---\n",
      "   rating_id  book_id       username  rating\n",
      "0          1        1     ryanfranco       4\n",
      "1          2        1  grantpatricia       2\n",
      "2          3        1   brandtandrea       5\n",
      "3          4        2       lorichen       3\n",
      "4          5        2    mariokeller       2\n"
     ]
    }
   ],
   "source": [
    "# Vistazo a la tabla 'ratings'\n",
    "run_query_and_print_results(\"SELECT * FROM ratings LIMIT 5;\", \"Vistazo a la tabla 'ratings'\")"
   ]
  },
  {
   "cell_type": "code",
   "execution_count": 7,
   "metadata": {},
   "outputs": [
    {
     "name": "stdout",
     "output_type": "stream",
     "text": [
      "\n",
      "--- Vistazo a la tabla 'reviews' ---\n",
      "   review_id  book_id       username  \\\n",
      "0          1        1   brandtandrea   \n",
      "1          2        1     ryanfranco   \n",
      "2          3        2       lorichen   \n",
      "3          4        3  johnsonamanda   \n",
      "4          5        3    scotttamara   \n",
      "\n",
      "                                                text  \n",
      "0  Mention society tell send professor analysis. ...  \n",
      "1  Foot glass pretty audience hit themselves. Amo...  \n",
      "2  Listen treat keep worry. Miss husband tax but ...  \n",
      "3  Finally month interesting blue could nature cu...  \n",
      "4  Nation purpose heavy give wait song will. List...  \n"
     ]
    }
   ],
   "source": [
    "# Vistazo a la tabla 'reviews'\n",
    "run_query_and_print_results(\"SELECT * FROM reviews LIMIT 5;\", \"Vistazo a la tabla 'reviews'\")"
   ]
  },
  {
   "cell_type": "markdown",
   "metadata": {
    "jp-MarkdownHeadingCollapsed": true
   },
   "source": [
    "## 3. Consultas SQL y análisis"
   ]
  },
  {
   "cell_type": "markdown",
   "metadata": {},
   "source": [
    "A continuación, se presentan las consultas para cada uno de los ejercicios, junto con una explicación de la lógica detrás de cada una."
   ]
  },
  {
   "cell_type": "markdown",
   "metadata": {
    "jp-MarkdownHeadingCollapsed": true
   },
   "source": [
    "### Ejercicio 1: Número de libros publicados después del 1 de enero de 2000"
   ]
  },
  {
   "cell_type": "code",
   "execution_count": 8,
   "metadata": {},
   "outputs": [
    {
     "name": "stdout",
     "output_type": "stream",
     "text": [
      "\n",
      "--- 1. Número de libros publicados después del 1 de enero de 2000 ---\n",
      "   total_libros_despues_del_2000\n",
      "0                            819\n"
     ]
    }
   ],
   "source": [
    "query_1 = \"\"\"\n",
    "SELECT\n",
    "  COUNT(book_id) AS total_libros_despues_del_2000\n",
    "FROM books\n",
    "WHERE\n",
    "  publication_date > '2000-01-01';\n",
    "\"\"\"\n",
    "run_query_and_print_results(query_1, \"1. Número de libros publicados después del 1 de enero de 2000\")\n"
   ]
  },
  {
   "cell_type": "markdown",
   "metadata": {},
   "source": [
    "**Análisis y Conclusión:**\n",
    "\n",
    "Esta consulta utiliza la función `COUNT()` para contar los libros en la tabla `books`cuya fecha de publicación es posterior al año 2000. El resultado nos proporcionará el número de libros que han sido publicados en el siglo XXI, lo que indica el **crecimiento reciente y la vitalidad del catálogo**. Un número elevado sugeriría que la plataforma tiene una colección de libros moderna y relevante."
   ]
  },
  {
   "cell_type": "markdown",
   "metadata": {
    "jp-MarkdownHeadingCollapsed": true
   },
   "source": [
    "### Ejercicio 2: Número de reseñas y calificación promedio para cada libro"
   ]
  },
  {
   "cell_type": "code",
   "execution_count": 9,
   "metadata": {},
   "outputs": [
    {
     "name": "stdout",
     "output_type": "stream",
     "text": [
      "\n",
      "--- 2.Número de reseñas y calificación promedio para cada libro ---\n",
      "     book_id  total_reseñas  calificacion_promedio\n",
      "0        652              2               4.500000\n",
      "1        273              2               4.500000\n",
      "2         51             12               4.250000\n",
      "3        951              2               4.000000\n",
      "4        839              7               4.285714\n",
      "..       ...            ...                    ...\n",
      "995       64             13               4.230769\n",
      "996       55              2               5.000000\n",
      "997      148              7               3.428571\n",
      "998      790              2               3.500000\n",
      "999      828              2               3.000000\n",
      "\n",
      "[1000 rows x 3 columns]\n"
     ]
    }
   ],
   "source": [
    "query_2 = \"\"\"\n",
    "SELECT\n",
    "  book_id,\n",
    "  COUNT(username) AS total_reseñas,\n",
    "  AVG(rating) AS calificacion_promedio\n",
    "FROM ratings\n",
    "GROUP BY\n",
    "  book_id;\n",
    "\"\"\"\n",
    "run_query_and_print_results(query_2, \"2.Número de reseñas y calificación promedio para cada libro\")\n"
   ]
  },
  {
   "cell_type": "markdown",
   "metadata": {},
   "source": [
    "**Análisis y Conclusión:**\n",
    "\n",
    "La consulta agrupa los datos de la tabla `ratings` por `book_id` y utiliza las funciones de agregación `COUNT()` y `AVG()`. Esto nos permite obtener una visión clara de la popularidad y calidad percibida de cada libro. Los libros con un alto número de reseñas y una calificación promedio alta son **títulos populares y bien valorados**, lo que los convierte en candidatos ideales para campañas de promoción o recomendaciones a nuevos usuarios."
   ]
  },
  {
   "cell_type": "markdown",
   "metadata": {
    "jp-MarkdownHeadingCollapsed": true
   },
   "source": [
    "### Ejercicio 3: Editorial con el mayor número de libros con más de 50 páginas"
   ]
  },
  {
   "cell_type": "code",
   "execution_count": 10,
   "metadata": {},
   "outputs": [
    {
     "name": "stdout",
     "output_type": "stream",
     "text": [
      "\n",
      "--- 3. Editorial con el mayor número de libros con más de 50 páginas ---\n",
      "       publisher  total_libros\n",
      "0  Penguin Books            42\n"
     ]
    }
   ],
   "source": [
    "query_3 = \"\"\"\n",
    "SELECT\n",
    "  t2.publisher,\n",
    "  COUNT(t1.book_id) AS total_libros\n",
    "FROM books AS t1\n",
    "JOIN publishers AS t2\n",
    "  ON t1.publisher_id = t2.publisher_id\n",
    "WHERE\n",
    "  t1.num_pages > 50\n",
    "GROUP BY\n",
    "  t2.publisher\n",
    "ORDER BY\n",
    "  total_libros DESC\n",
    "LIMIT 1;\n",
    "\"\"\"\n",
    "run_query_and_print_results(query_3, \"3. Editorial con el mayor número de libros con más de 50 páginas\")\n"
   ]
  },
  {
   "cell_type": "markdown",
   "metadata": {},
   "source": [
    "**Análisis y Conclusión:**\n",
    "\n",
    "Esta consulta une las tablas `books` y `publishers` para relacionar los libros con sus editoriales. Filtramos los libros con más de 50 páginas para excluir publicaciones cortas y luego contamos y agrupamos por editorial. El resultado nos mostrará a la **editorial más prolífica y productiva**, lo que podría sugerir una colaboración estratégica para la adquisición de nuevos contenidos."
   ]
  },
  {
   "cell_type": "markdown",
   "metadata": {
    "jp-MarkdownHeadingCollapsed": true
   },
   "source": [
    "### Ejercicio 4: Autor con la más alta calificación promedio del libro (libros con al menos 50 calificaciones)"
   ]
  },
  {
   "cell_type": "code",
   "execution_count": 11,
   "metadata": {},
   "outputs": [
    {
     "name": "stdout",
     "output_type": "stream",
     "text": [
      "\n",
      "--- 4. Autor con la más alta calificación promedio del libro (libros con al menos 50 calificaciones) ---\n",
      "                       author  calificacion_promedio_autor\n",
      "0  J.K. Rowling/Mary GrandPré                     4.283844\n"
     ]
    }
   ],
   "source": [
    "query_4 = \"\"\"\n",
    "WITH libros_bien_calificados AS (\n",
    "  SELECT\n",
    "    book_id,\n",
    "    AVG(rating) AS calificacion_promedio_libro\n",
    "  FROM ratings\n",
    "  GROUP BY\n",
    "    book_id\n",
    "  HAVING\n",
    "    COUNT(rating) >= 50\n",
    ")\n",
    "SELECT\n",
    "  t2.author,\n",
    "  AVG(t1.calificacion_promedio_libro) AS calificacion_promedio_autor\n",
    "FROM libros_bien_calificados AS t1\n",
    "JOIN books AS t3\n",
    "  ON t1.book_id = t3.book_id\n",
    "JOIN authors AS t2\n",
    "  ON t3.author_id = t2.author_id\n",
    "GROUP BY\n",
    "  t2.author\n",
    "ORDER BY\n",
    "  calificacion_promedio_autor DESC\n",
    "LIMIT 1;\n",
    "\"\"\"\n",
    "run_query_and_print_results(query_4, \"4. Autor con la más alta calificación promedio del libro (libros con al menos 50 calificaciones)\")\n"
   ]
  },
  {
   "cell_type": "markdown",
   "metadata": {},
   "source": [
    "**Análisis y Conclusión:**\n",
    "\n",
    "Esta consulta utiliza una subconsulta (`WITH`) para primero filtrar los libros que tienen al menos 50 calificaciones. Luego, une estos resultados con las tablas `books` y `authors` para calcular el promedio de calificaciones de los libros para cada autor. El resultado nos dirá cuál es el ***autor mejor valorado por la comunidad***, un dato clave para destacar a ciertos autores o generar contenido temático sobre sus obras."
   ]
  },
  {
   "cell_type": "markdown",
   "metadata": {
    "jp-MarkdownHeadingCollapsed": true
   },
   "source": [
    "### Ejercicio 5: Número promedio de reseñas de texto de usuarios que calificaron más de 50 libros"
   ]
  },
  {
   "cell_type": "code",
   "execution_count": 12,
   "metadata": {},
   "outputs": [
    {
     "name": "stdout",
     "output_type": "stream",
     "text": [
      "\n",
      "--- 5. Número promedio de reseñas de texto de usuarios que calificaron más de 50 libros ---\n",
      "   promedio_reseñas_texto\n",
      "0               24.333333\n"
     ]
    }
   ],
   "source": [
    "query_5 = \"\"\"\n",
    "WITH usuarios_activos AS (\n",
    "  SELECT\n",
    "    username\n",
    "  FROM ratings\n",
    "  GROUP BY\n",
    "    username\n",
    "  HAVING\n",
    "    COUNT(book_id) > 50\n",
    ")\n",
    "SELECT\n",
    "  AVG(t2.total_reseñas_texto) AS promedio_reseñas_texto\n",
    "FROM usuarios_activos AS t1\n",
    "JOIN (\n",
    "  SELECT\n",
    "    username,\n",
    "    COUNT(review_id) AS total_reseñas_texto\n",
    "  FROM reviews\n",
    "  GROUP BY\n",
    "    username\n",
    ") AS t2\n",
    "  ON t1.username = t2.username;\n",
    "\"\"\"\n",
    "run_query_and_print_results(query_5, \"5. Número promedio de reseñas de texto de usuarios que calificaron más de 50 libros\")\n"
   ]
  },
  {
   "cell_type": "markdown",
   "metadata": {},
   "source": [
    "**Análisis y Conclusión:**\n",
    "\n",
    "Esta consulta también utiliza una subconsulta para identificar a los usuarios más activos, aquellos que han calificado más de 50 libros. Luego, une este grupo con un conteo de las reseñas de texto que han escrito. El promedio final nos revela el **nivel de compromiso y la participación de los usuarios más fieles en la plataforma**, lo que es vital para entender las dinámicas de la comunidad y para desarrollar funcionalidades que fomenten la interacción"
   ]
  }
 ],
 "metadata": {
  "kernelspec": {
   "display_name": "Python 3 (ipykernel)",
   "language": "python",
   "name": "python3"
  },
  "language_info": {
   "codemirror_mode": {
    "name": "ipython",
    "version": 3
   },
   "file_extension": ".py",
   "mimetype": "text/x-python",
   "name": "python",
   "nbconvert_exporter": "python",
   "pygments_lexer": "ipython3",
   "version": "3.9.23"
  }
 },
 "nbformat": 4,
 "nbformat_minor": 4
}
