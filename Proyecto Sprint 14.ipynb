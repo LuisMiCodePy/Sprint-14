{
 "cells": [
  {
   "cell_type": "markdown",
   "id": "d71ef93f",
   "metadata": {},
   "source": [
    "# 1. Carga y Preprocesamiento de Datos "
   ]
  },
  {
   "cell_type": "markdown",
   "id": "60b1a901",
   "metadata": {},
   "source": [
    "Primero, importamos las librerías necesarias y cargamos los datasets. Luego, realizamos las tareas de limpieza y unión de datos para tener un DataFrame consolidado con el que trabajar."
   ]
  },
  {
   "cell_type": "code",
   "execution_count": 2,
   "id": "ecb42a76",
   "metadata": {},
   "outputs": [],
   "source": [
    "import pandas as pd\n",
    "import numpy as np\n",
    "import matplotlib.pyplot as plt\n",
    "import seaborn as sns\n",
    "from scipy import stats"
   ]
  },
  {
   "cell_type": "code",
   "execution_count": 3,
   "id": "187f07fc",
   "metadata": {},
   "outputs": [
    {
     "name": "stdout",
     "output_type": "stream",
     "text": [
      "Datos cargados exitosamente.\n"
     ]
    }
   ],
   "source": [
    "# 1. Cargar los datos\n",
    "try:\n",
    "    df_telecom = pd.read_csv('telecom_dataset_us.csv')\n",
    "    df_clients = pd.read_csv('telecom_clients_us.csv')\n",
    "    print(\"Datos cargados exitosamente.\")\n",
    "except FileNotFoundError:\n",
    "    print(\"Asegúrate de que los archivos CSV están en el directorio correcto.\")"
   ]
  },
  {
   "cell_type": "code",
   "execution_count": 5,
   "id": "29a96550",
   "metadata": {},
   "outputs": [
    {
     "name": "stdout",
     "output_type": "stream",
     "text": [
      "\n",
      "--- Inspección de telecom_dataset_us ---\n",
      "<class 'pandas.core.frame.DataFrame'>\n",
      "RangeIndex: 53902 entries, 0 to 53901\n",
      "Data columns (total 9 columns):\n",
      " #   Column               Non-Null Count  Dtype  \n",
      "---  ------               --------------  -----  \n",
      " 0   user_id              53902 non-null  int64  \n",
      " 1   date                 53902 non-null  object \n",
      " 2   direction            53902 non-null  object \n",
      " 3   internal             53785 non-null  object \n",
      " 4   operator_id          45730 non-null  float64\n",
      " 5   is_missed_call       53902 non-null  bool   \n",
      " 6   calls_count          53902 non-null  int64  \n",
      " 7   call_duration        53902 non-null  int64  \n",
      " 8   total_call_duration  53902 non-null  int64  \n",
      "dtypes: bool(1), float64(1), int64(4), object(3)\n",
      "memory usage: 3.3+ MB\n",
      "None\n",
      "\n",
      "--- Inspección de telecom_clients_us ---\n",
      "<class 'pandas.core.frame.DataFrame'>\n",
      "RangeIndex: 732 entries, 0 to 731\n",
      "Data columns (total 3 columns):\n",
      " #   Column       Non-Null Count  Dtype \n",
      "---  ------       --------------  ----- \n",
      " 0   user_id      732 non-null    int64 \n",
      " 1   tariff_plan  732 non-null    object\n",
      " 2   date_start   732 non-null    object\n",
      "dtypes: int64(1), object(2)\n",
      "memory usage: 17.3+ KB\n",
      "None\n"
     ]
    }
   ],
   "source": [
    "# 2. Inspección inicial\n",
    "print(\"\\n--- Inspección de telecom_dataset_us ---\")\n",
    "print(df_telecom.info())\n",
    "print(\"\\n--- Inspección de telecom_clients_us ---\")\n",
    "print(df_clients.info())"
   ]
  },
  {
   "cell_type": "code",
   "execution_count": 6,
   "id": "a3652235",
   "metadata": {},
   "outputs": [],
   "source": [
    "# 3. Limpieza de datos\n",
    "# Convertir columnas de fecha a formato datetime\n",
    "df_telecom['date'] = pd.to_datetime(df_telecom['date'])\n",
    "df_clients['date_start'] = pd.to_datetime(df_clients['date_start'])\n",
    "\n",
    "# Calcular el tiempo de espera\n",
    "df_telecom['wait_duration'] = df_telecom['total_call_duration'] - df_telecom['call_duration']"
   ]
  },
  {
   "cell_type": "code",
   "execution_count": 7,
   "id": "073b4af5",
   "metadata": {},
   "outputs": [
    {
     "name": "stdout",
     "output_type": "stream",
     "text": [
      "\n",
      "--- DataFrame unido ---\n",
      "<class 'pandas.core.frame.DataFrame'>\n",
      "RangeIndex: 53902 entries, 0 to 53901\n",
      "Data columns (total 12 columns):\n",
      " #   Column               Non-Null Count  Dtype                    \n",
      "---  ------               --------------  -----                    \n",
      " 0   user_id              53902 non-null  int64                    \n",
      " 1   date                 53902 non-null  datetime64[ns, UTC+03:00]\n",
      " 2   direction            53902 non-null  object                   \n",
      " 3   internal             53785 non-null  object                   \n",
      " 4   operator_id          45730 non-null  float64                  \n",
      " 5   is_missed_call       53902 non-null  bool                     \n",
      " 6   calls_count          53902 non-null  int64                    \n",
      " 7   call_duration        53902 non-null  int64                    \n",
      " 8   total_call_duration  53902 non-null  int64                    \n",
      " 9   wait_duration        53902 non-null  int64                    \n",
      " 10  tariff_plan          53902 non-null  object                   \n",
      " 11  date_start           53902 non-null  datetime64[ns]           \n",
      "dtypes: bool(1), datetime64[ns, UTC+03:00](1), datetime64[ns](1), float64(1), int64(5), object(3)\n",
      "memory usage: 4.6+ MB\n",
      "None\n",
      "   user_id                      date direction internal  operator_id  \\\n",
      "0   166377 2019-08-04 00:00:00+03:00        in    False          NaN   \n",
      "1   166377 2019-08-05 00:00:00+03:00       out     True     880022.0   \n",
      "2   166377 2019-08-05 00:00:00+03:00       out     True     880020.0   \n",
      "3   166377 2019-08-05 00:00:00+03:00       out     True     880020.0   \n",
      "4   166377 2019-08-05 00:00:00+03:00       out    False     880022.0   \n",
      "\n",
      "   is_missed_call  calls_count  call_duration  total_call_duration  \\\n",
      "0            True            2              0                    4   \n",
      "1            True            3              0                    5   \n",
      "2            True            1              0                    1   \n",
      "3           False            1             10                   18   \n",
      "4            True            3              0                   25   \n",
      "\n",
      "   wait_duration tariff_plan date_start  \n",
      "0              4           B 2019-08-01  \n",
      "1              5           B 2019-08-01  \n",
      "2              1           B 2019-08-01  \n",
      "3              8           B 2019-08-01  \n",
      "4             25           B 2019-08-01  \n"
     ]
    }
   ],
   "source": [
    "# 4. Unir los DataFrames\n",
    "df_full = df_telecom.merge(df_clients, on='user_id', how='left')\n",
    "\n",
    "print(\"\\n--- DataFrame unido ---\")\n",
    "print(df_full.info())\n",
    "print(df_full.head())"
   ]
  },
  {
   "cell_type": "markdown",
   "id": "1b59c859",
   "metadata": {},
   "source": [
    "# 2. Análisis Exploratorio de Datos (AED) "
   ]
  },
  {
   "cell_type": "markdown",
   "id": "a6ff2e2a",
   "metadata": {},
   "source": [
    "En esta fase, definimos los criterios para la ineficacia y realizamos los primeros análisis para entender mejor el comportamiento de los operadores."
   ]
  },
  {
   "cell_type": "code",
   "execution_count": 8,
   "id": "fdba8196",
   "metadata": {},
   "outputs": [
    {
     "name": "stdout",
     "output_type": "stream",
     "text": [
      "\n",
      "--- Estadísticas descriptivas de las duraciones de llamada ---\n",
      "       call_duration  total_call_duration  wait_duration\n",
      "count   53902.000000         53902.000000   53902.000000\n",
      "mean      866.684427          1157.133297     290.448870\n",
      "std      3731.791202          4403.468763    1127.905654\n",
      "min         0.000000             0.000000       0.000000\n",
      "25%         0.000000            47.000000      17.000000\n",
      "50%        38.000000           210.000000      55.000000\n",
      "75%       572.000000           902.000000     201.000000\n",
      "max    144395.000000        166155.000000   46474.000000\n"
     ]
    }
   ],
   "source": [
    "# 1. Análisis descriptivo\n",
    "print(\"\\n--- Estadísticas descriptivas de las duraciones de llamada ---\")\n",
    "print(df_full[['call_duration', 'total_call_duration', 'wait_duration']].describe())"
   ]
  },
  {
   "cell_type": "code",
   "execution_count": 9,
   "id": "380cbc80",
   "metadata": {},
   "outputs": [
    {
     "data": {
      "image/png": "[encoded data removed]",
      "text/plain": [
       "<Figure size 1200x600 with 1 Axes>"
      ]
     },
     "metadata": {},
     "output_type": "display_data"
    }
   ],
   "source": [
    "# 2. Visualización\n",
    "plt.figure(figsize=(12, 6))\n",
    "sns.histplot(df_full['call_duration'], bins=50, kde=True)\n",
    "plt.title('Distribución de la Duración de las Llamadas')\n",
    "plt.xlabel('Duración de la llamada (segundos)')\n",
    "plt.ylabel('Frecuencia')\n",
    "plt.show()"
   ]
  },
  {
   "cell_type": "code",
   "execution_count": 10,
   "id": "68f930b6",
   "metadata": {},
   "outputs": [
    {
     "name": "stdout",
     "output_type": "stream",
     "text": [
      "\n",
      "--- Operadores ineficaces (basado en criterios iniciales) ---\n",
      "      operator_id  total_calls  missed_in_calls  total_in_calls  \\\n",
      "0        879896.0         1131               50              23   \n",
      "1        879898.0         7974              100              64   \n",
      "4        880026.0         2439               94              19   \n",
      "5        880028.0         2906               91              45   \n",
      "11       882684.0         1364               55              52   \n",
      "...           ...          ...              ...             ...   \n",
      "1059     968150.0          104                6               2   \n",
      "1061     968338.0          275                7               7   \n",
      "1066     969272.0          466               14              10   \n",
      "1087     972410.0           77                2               0   \n",
      "1088     972412.0           61                2               1   \n",
      "\n",
      "      total_out_calls  avg_wait_duration  missed_in_rate  \n",
      "0                 105         110.671875        2.173913  \n",
      "1                 187         450.087649        1.562500  \n",
      "4                 179         121.171717        4.947368  \n",
      "5                 181         210.592920        2.022222  \n",
      "11                113         128.018182        1.057692  \n",
      "...               ...                ...             ...  \n",
      "1059               13         102.600000        3.000000  \n",
      "1061               15         226.727273        1.000000  \n",
      "1066               24         185.558824        1.400000  \n",
      "1087                4         374.500000             inf  \n",
      "1088                4         210.000000        2.000000  \n",
      "\n",
      "[348 rows x 7 columns]\n"
     ]
    }
   ],
   "source": [
    "# 3. Definir y calcular métricas de ineficacia por operador\n",
    "# Agrupar datos por operador para calcular métricas de rendimiento\n",
    "operator_metrics = df_full.groupby('operator_id').agg(\n",
    "    total_calls=('calls_count', 'sum'),\n",
    "    missed_in_calls=('is_missed_call', lambda x: (x == True).sum()),\n",
    "    total_in_calls=('direction', lambda x: (x == 'in').sum()),\n",
    "    total_out_calls=('direction', lambda x: (x == 'out').sum()),\n",
    "    avg_wait_duration=('wait_duration', 'mean')\n",
    ").reset_index()\n",
    "\n",
    "# Calcular el porcentaje de llamadas entrantes perdidas\n",
    "operator_metrics['missed_in_rate'] = (operator_metrics['missed_in_calls'] / operator_metrics['total_in_calls']).fillna(0)\n",
    "\n",
    "# Definir operadores ineficaces basados en los criterios\n",
    "# Criterios: alto porcentaje de llamadas perdidas (ej. > 25%) y tiempo de espera prolongado (ej. > 100 segundos)\n",
    "inefficient_operators = operator_metrics[\n",
    "    (operator_metrics['missed_in_rate'] > 0.25) &\n",
    "    (operator_metrics['avg_wait_duration'] > 100)\n",
    "]\n",
    "\n",
    "print(\"\\n--- Operadores ineficaces (basado en criterios iniciales) ---\")\n",
    "print(inefficient_operators)"
   ]
  },
  {
   "cell_type": "markdown",
   "id": "a3f79aa6",
   "metadata": {},
   "source": [
    "# 3. Prueba de Hipótesis"
   ]
  },
  {
   "cell_type": "markdown",
   "id": "fb9e2c27",
   "metadata": {},
   "source": [
    "## 3.1 Comparar el tiempo de espera entre operadores eficaces e ineficaces."
   ]
  },
  {
   "cell_type": "code",
   "execution_count": 11,
   "id": "bfff985b",
   "metadata": {},
   "outputs": [
    {
     "name": "stdout",
     "output_type": "stream",
     "text": [
      "\n",
      "--- Resultado de la Prueba de Hipótesis (Prueba t) ---\n",
      "Estadístico t: 43.66\n",
      "Valor p: 0.000\n",
      "Rechazamos la hipótesis nula. El tiempo de espera es significativamente más largo para los operadores ineficaces.\n"
     ]
    }
   ],
   "source": [
    "# Separar los datos en dos grupos: ineficaces y eficaces\n",
    "efficient_operators_data = df_full[~df_full['operator_id'].isin(inefficient_operators['operator_id'])]\n",
    "inefficient_operators_data = df_full[df_full['operator_id'].isin(inefficient_operators['operator_id'])]\n",
    "\n",
    "# Prueba de hipótesis (Prueba t de Student)\n",
    "# H0: El tiempo de espera promedio es el mismo para ambos grupos.\n",
    "# H1: El tiempo de espera promedio es mayor para los operadores ineficaces.\n",
    "t_stat, p_value = stats.ttest_ind(\n",
    "    inefficient_operators_data['wait_duration'].dropna(),\n",
    "    efficient_operators_data['wait_duration'].dropna(),\n",
    "    equal_var=False,  # Se asume varianzas desiguales\n",
    "    alternative='greater'\n",
    ")\n",
    "\n",
    "print(\"\\n--- Resultado de la Prueba de Hipótesis (Prueba t) ---\")\n",
    "print(f\"Estadístico t: {t_stat:.2f}\")\n",
    "print(f\"Valor p: {p_value:.3f}\")\n",
    "\n",
    "if p_value < 0.05:\n",
    "    print(\"Rechazamos la hipótesis nula. El tiempo de espera es significativamente más largo para los operadores ineficaces.\")\n",
    "else:\n",
    "    print(\"No hay evidencia suficiente para rechazar la hipótesis nula. La diferencia no es estadísticamente significativa.\")"
   ]
  },
  {
   "cell_type": "markdown",
   "id": "251fa0b3",
   "metadata": {},
   "source": [
    "## 3.2 Analizar la relación entre el plan tarifario del cliente y el número de llamadas perdidas."
   ]
  },
  {
   "cell_type": "code",
   "execution_count": 12,
   "id": "c35d7a6d",
   "metadata": {},
   "outputs": [
    {
     "name": "stdout",
     "output_type": "stream",
     "text": [
      "\n",
      "--- Tabla de contingencia (Plan tarifario vs. Llamada perdida) ---\n",
      "is_missed_call  False  True \n",
      "tariff_plan                 \n",
      "A                8786   6111\n",
      "B               10491   8453\n",
      "C               11057   9004\n",
      "\n",
      "--- Resultado de la Prueba de Hipótesis 2 (Chi-cuadrado) ---\n",
      "Estadístico Chi-cuadrado: 61.36\n",
      "Valor p: 0.000\n",
      "Grados de libertad (dof): 2\n",
      "\n",
      "Rechazamos la hipótesis nula con un nivel de significancia de 0.05.\n",
      "Existe una relación estadísticamente significativa entre el plan tarifario y si la llamada fue perdida.\n"
     ]
    }
   ],
   "source": [
    "# Crear una tabla de contingencia\n",
    "# Agrupamos por 'tariff_plan' y 'is_missed_call' para contar las ocurrencias\n",
    "contingency_table = pd.crosstab(df_full['tariff_plan'], df_full['is_missed_call'])\n",
    "\n",
    "print(\"\\n--- Tabla de contingencia (Plan tarifario vs. Llamada perdida) ---\")\n",
    "print(contingency_table)\n",
    "\n",
    "# Realizar la prueba de chi-cuadrado\n",
    "chi2_stat, p_value, dof, expected = stats.chi2_contingency(contingency_table)\n",
    "\n",
    "print(\"\\n--- Resultado de la Prueba de Hipótesis 2 (Chi-cuadrado) ---\")\n",
    "print(f\"Estadístico Chi-cuadrado: {chi2_stat:.2f}\")\n",
    "print(f\"Valor p: {p_value:.3f}\")\n",
    "print(f\"Grados de libertad (dof): {dof}\")\n",
    "\n",
    "# Interpretar el resultado\n",
    "alpha = 0.05\n",
    "if p_value < alpha:\n",
    "    print(f\"\\nRechazamos la hipótesis nula con un nivel de significancia de {alpha}.\")\n",
    "    print(\"Existe una relación estadísticamente significativa entre el plan tarifario y si la llamada fue perdida.\")\n",
    "else:\n",
    "    print(f\"\\nNo hay evidencia suficiente para rechazar la hipótesis nula con un nivel de significancia de {alpha}.\")\n",
    "    print(\"Las variables son independientes, lo que sugiere que el plan tarifario no está asociado con la tasa de llamadas perdidas.\")"
   ]
  },
  {
   "cell_type": "markdown",
   "id": "057044c6",
   "metadata": {},
   "source": [
    "# 4. Identificación de Operadores Ineficaces"
   ]
  },
  {
   "cell_type": "code",
   "execution_count": 14,
   "id": "35397fe5",
   "metadata": {},
   "outputs": [
    {
     "name": "stdout",
     "output_type": "stream",
     "text": [
      "\n",
      "--- Inspección de operadores ineficaces ---\n",
      "<class 'pandas.core.frame.DataFrame'>\n",
      "Index: 348 entries, 0 to 1088\n",
      "Data columns (total 7 columns):\n",
      " #   Column             Non-Null Count  Dtype  \n",
      "---  ------             --------------  -----  \n",
      " 0   operator_id        348 non-null    float64\n",
      " 1   total_calls        348 non-null    int64  \n",
      " 2   missed_in_calls    348 non-null    int64  \n",
      " 3   total_in_calls     348 non-null    int64  \n",
      " 4   total_out_calls    348 non-null    int64  \n",
      " 5   avg_wait_duration  348 non-null    float64\n",
      " 6   missed_in_rate     348 non-null    float64\n",
      "dtypes: float64(3), int64(4)\n",
      "memory usage: 21.8 KB\n",
      "None\n",
      "\n",
      "--- Conclusiones para la Presentación ---\n",
      "Número de operadores identificados como ineficaces: 348\n",
      "Características principales:\n",
      "         operator_id   total_calls  missed_in_calls  total_in_calls  \\\n",
      "count     348.000000    348.000000       348.000000      348.000000   \n",
      "mean   926256.310345   1990.557471        27.666667       16.540230   \n",
      "std     21961.239127   5411.524825        24.831614       25.402491   \n",
      "min    879896.000000     13.000000         1.000000        0.000000   \n",
      "25%    907097.000000    450.750000        10.000000        0.000000   \n",
      "50%    928072.000000   1128.000000        21.000000        2.000000   \n",
      "75%    945280.500000   2068.000000        35.000000       27.250000   \n",
      "max    972412.000000  66049.000000       135.000000      121.000000   \n",
      "\n",
      "       total_out_calls  avg_wait_duration  missed_in_rate  \n",
      "count       348.000000         348.000000      348.000000  \n",
      "mean         52.290230         594.876419             inf  \n",
      "std          46.248162         764.429862             NaN  \n",
      "min           1.000000         100.900000        0.258621  \n",
      "25%          20.000000         163.673153        1.070562  \n",
      "50%          40.000000         303.710402        6.377778  \n",
      "75%          66.000000         807.663265             NaN  \n",
      "max         246.000000        5907.443038             inf  \n"
     ]
    },
    {
     "name": "stderr",
     "output_type": "stream",
     "text": [
      "c:\\Users\\WIN10\\anaconda3\\Lib\\site-packages\\numpy\\lib\\function_base.py:4655: RuntimeWarning: invalid value encountered in subtract\n",
      "  diff_b_a = subtract(b, a)\n"
     ]
    },
    {
     "data": {
      "image/png": "[encoded data removed]",
      "text/plain": [
       "<Figure size 800x600 with 1 Axes>"
      ]
     },
     "metadata": {},
     "output_type": "display_data"
    }
   ],
   "source": [
    "# 4. Identificación de Operadores Ineficaces\n",
    "# La lista final de operadores ineficaces es 'inefficient_operators'\n",
    "# Puedes guardar esta lista en un archivo CSV o continuar el análisis con ella\n",
    "inefficient_operators.to_csv('operadores_ineficaces.csv', index=False)\n",
    "print(\"\\n--- Inspección de operadores ineficaces ---\")\n",
    "print(inefficient_operators.info())\n",
    "\n",
    "# 5. Conclusiones y Preparación de la Presentación\n",
    "# En esta sección, resumirías tus hallazgos clave\n",
    "print(\"\\n--- Conclusiones para la Presentación ---\")\n",
    "print(f\"Número de operadores identificados como ineficaces: {len(inefficient_operators)}\")\n",
    "print(\"Características principales:\")\n",
    "print(inefficient_operators.describe())\n",
    "\n",
    "# Puedes incluir visualizaciones adicionales como un gráfico de barras\n",
    "# para comparar el porcentaje de llamadas perdidas entre los dos grupos.\n",
    "plt.figure(figsize=(8, 6))\n",
    "sns.barplot(x=['Eficaces', 'Ineficaces'], y=[\n",
    "    efficient_operators_data['is_missed_call'].mean(),\n",
    "    inefficient_operators_data['is_missed_call'].mean()\n",
    "])\n",
    "plt.title('Comparación de la Tasa de Llamadas Perdidas')\n",
    "plt.xlabel('Grupo de Operadores')\n",
    "plt.ylabel('Tasa de Llamadas Perdidas Promedio')\n",
    "plt.show()"
   ]
  },
  {
   "cell_type": "code",
   "execution_count": null,
   "id": "bc77cfce",
   "metadata": {},
   "outputs": [],
   "source": []
  }
 ],
 "metadata": {
  "kernelspec": {
   "display_name": "base",
   "language": "python",
   "name": "python3"
  },
  "language_info": {
   "codemirror_mode": {
    "name": "ipython",
    "version": 3
   },
   "file_extension": ".py",
   "mimetype": "text/x-python",
   "name": "python",
   "nbconvert_exporter": "python",
   "pygments_lexer": "ipython3",
   "version": "3.12.7"
  }
 },
 "nbformat": 4,
 "nbformat_minor": 5
}
